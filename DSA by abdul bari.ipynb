{
 "cells": [
  {
   "cell_type": "markdown",
   "id": "07bc9426-f69e-424d-ac20-e754f0c239bd",
   "metadata": {},
   "source": [
    "***DSA by Abdul Bari***\n"
   ]
  },
  {
   "cell_type": "markdown",
   "id": "70c08f76-f916-4ad8-ab4f-5d0a0b2cdcde",
   "metadata": {},
   "source": [
    "**Recurssion**"
   ]
  },
  {
   "cell_type": "code",
   "execution_count": 3,
   "id": "429261d1-a308-40dc-81b6-beb2d1ca874c",
   "metadata": {},
   "outputs": [
    {
     "name": "stdout",
     "output_type": "stream",
     "text": [
      "3 2 1 "
     ]
    }
   ],
   "source": [
    "//function1\n",
    "void fun1(int n){\n",
    "    if (n>0){\n",
    "        printf(\"%d \",n);\n",
    "        fun1(n-1);\n",
    "    }\n",
    "}\n",
    "\n",
    "int x = 3;\n",
    "fun1(x);"
   ]
  },
  {
   "cell_type": "markdown",
   "id": "4029c1e7-0538-4ad8-93e2-2287d62f9603",
   "metadata": {},
   "source": [
    "In this function it first prints the number n and then calls itself for n-1"
   ]
  },
  {
   "cell_type": "code",
   "execution_count": 4,
   "id": "3e5c5d85-d53b-4809-9979-ff8edbfd3a62",
   "metadata": {},
   "outputs": [
    {
     "name": "stdout",
     "output_type": "stream",
     "text": [
      "1 2 3 "
     ]
    }
   ],
   "source": [
    "//fucntion 2\n",
    "void fun2(int n){\n",
    "    if (n>0){\n",
    "        fun2(n-1);\n",
    "        printf(\"%d \",n);\n",
    "    }\n",
    "        \n",
    "}\n",
    "int x = 3;\n",
    "fun2(x);"
   ]
  },
  {
   "cell_type": "markdown",
   "id": "3dfc6c01-6b28-4409-aafc-a0e224b64e33",
   "metadata": {},
   "source": [
    "In this the function calls itself for n-1 first so it will reach to f(0) where it won't find any pther thing to do so come back and while combing back it will complete the 2nd line of task given at each stage"
   ]
  },
  {
   "cell_type": "code",
   "execution_count": null,
   "id": "915750ce-b6e0-4f89-9cab-6cd6ee008304",
   "metadata": {},
   "outputs": [],
   "source": [
    "/* Generalisation of recurssion function\n",
    "\n",
    "void fun(int n){\n",
    "    condition for end{\n",
    "        1. calling\n",
    "        2. fun(n-1)\n",
    "        3. Returning \n",
    "    }\n",
    "}\n",
    "*/"
   ]
  },
  {
   "cell_type": "markdown",
   "id": "55c4f6ba-1bfa-489b-a00e-f0b2df18adb2",
   "metadata": {},
   "source": [
    "Recurssion function has 2 phases going and returning and we can make use of both while coding. For and while loops has only one of those. "
   ]
  },
  {
   "cell_type": "markdown",
   "id": "263f2c5b-8f11-416a-946d-19097155d6a0",
   "metadata": {},
   "source": [
    "*Static variables in recurssion*"
   ]
  },
  {
   "cell_type": "code",
   "execution_count": 14,
   "id": "c340770e-1e9e-477c-820f-d0c4bef4285a",
   "metadata": {},
   "outputs": [
    {
     "name": "stdout",
     "output_type": "stream",
     "text": [
      "15 "
     ]
    }
   ],
   "source": [
    "//function 3\n",
    "\n",
    "int fun3(int n){\n",
    "    if (n>0){\n",
    "        return fun3(n-1) + n;\n",
    "        \n",
    "    }\n",
    "    return 0;\n",
    "    \n",
    "}\n",
    "\n",
    "int a = 5;\n",
    "printf(\"%d \",fun3(a));"
   ]
  },
  {
   "cell_type": "markdown",
   "id": "b7128cf7-f5d0-46c8-85a3-d6d0d4f65c80",
   "metadata": {},
   "source": [
    "f(0) tak gya joh 0 nikla toh f(1) = f(0) +1 and aise hi chalta gya upar"
   ]
  },
  {
   "cell_type": "code",
   "execution_count": 27,
   "id": "9594094c-32f9-4edd-b9e0-077dd66f52d1",
   "metadata": {},
   "outputs": [
    {
     "name": "stdout",
     "output_type": "stream",
     "text": [
      "25 "
     ]
    }
   ],
   "source": [
    "//function 3 with static variable \n",
    "int fun3s(int n){\n",
    "    static int x = 0;\n",
    "    if (n>0){\n",
    "        x ++;\n",
    "        return fun3s(n-1) + x;\n",
    "        \n",
    "    }\n",
    "    return 0;\n",
    "    \n",
    "}\n",
    "\n",
    "int a = 5;\n",
    "printf(\"%d \",fun3s(a));"
   ]
  },
  {
   "cell_type": "markdown",
   "id": "333220ba-c0f5-4b2a-a0e5-4a115dc45e6b",
   "metadata": {},
   "source": [
    "Damn bro static vala sexy hai, remember without keyword static har bar \n",
    "int x = 0 hojayega function call krne pe. "
   ]
  },
  {
   "cell_type": "markdown",
   "id": "c5d26cba-11ac-4846-b32e-adc149f9570d",
   "metadata": {},
   "source": [
    "*if function ke bhaar globally variable declare krta toh bhi same result aata*"
   ]
  }
 ],
 "metadata": {
  "kernelspec": {
   "display_name": "C++17",
   "language": "C++17",
   "name": "xcpp17"
  },
  "language_info": {
   "codemirror_mode": "text/x-c++src",
   "file_extension": ".cpp",
   "mimetype": "text/x-c++src",
   "name": "c++",
   "version": "17"
  }
 },
 "nbformat": 4,
 "nbformat_minor": 5
}
