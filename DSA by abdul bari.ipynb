{
 "cells": [
  {
   "cell_type": "markdown",
   "id": "07bc9426-f69e-424d-ac20-e754f0c239bd",
   "metadata": {},
   "source": [
    "***DSA by Abdul Bari***\n"
   ]
  },
  {
   "cell_type": "markdown",
   "id": "70c08f76-f916-4ad8-ab4f-5d0a0b2cdcde",
   "metadata": {},
   "source": [
    "**Recurssion**"
   ]
  },
  {
   "cell_type": "code",
   "execution_count": 3,
   "id": "429261d1-a308-40dc-81b6-beb2d1ca874c",
   "metadata": {},
   "outputs": [
    {
     "name": "stdout",
     "output_type": "stream",
     "text": [
      "3 2 1 "
     ]
    }
   ],
   "source": [
    "//function1\n",
    "void fun1(int n){\n",
    "    if (n>0){\n",
    "        printf(\"%d \",n);\n",
    "        fun1(n-1);\n",
    "    }\n",
    "}\n",
    "\n",
    "int x = 3;\n",
    "fun1(x);"
   ]
  },
  {
   "cell_type": "markdown",
   "id": "4029c1e7-0538-4ad8-93e2-2287d62f9603",
   "metadata": {},
   "source": [
    "In this function it first prints the number n and then calls itself for n-1"
   ]
  },
  {
   "cell_type": "code",
   "execution_count": 4,
   "id": "3e5c5d85-d53b-4809-9979-ff8edbfd3a62",
   "metadata": {},
   "outputs": [
    {
     "name": "stdout",
     "output_type": "stream",
     "text": [
      "1 2 3 "
     ]
    }
   ],
   "source": [
    "//fucntion 2\n",
    "void fun2(int n){\n",
    "    if (n>0){\n",
    "        fun2(n-1);\n",
    "        printf(\"%d \",n);\n",
    "    }\n",
    "        \n",
    "}\n",
    "int x = 3;\n",
    "fun2(x);"
   ]
  },
  {
   "cell_type": "markdown",
   "id": "3dfc6c01-6b28-4409-aafc-a0e224b64e33",
   "metadata": {},
   "source": [
    "In this the function calls itself for n-1 first so it will reach to f(0) where it won't find any pther thing to do so come back and while combing back it will complete the 2nd line of task given at each stage"
   ]
  },
  {
   "cell_type": "code",
   "execution_count": null,
   "id": "915750ce-b6e0-4f89-9cab-6cd6ee008304",
   "metadata": {},
   "outputs": [],
   "source": [
    "/* Generalisation of recurssion function\n",
    "\n",
    "void fun(int n){\n",
    "    condition for end{\n",
    "        1. calling\n",
    "        2. fun(n-1)\n",
    "        3. Returning \n",
    "    }\n",
    "}\n",
    "*/"
   ]
  },
  {
   "cell_type": "markdown",
   "id": "55c4f6ba-1bfa-489b-a00e-f0b2df18adb2",
   "metadata": {},
   "source": [
    "Recurssion function has 2 phases going and returning and we can make use of both while coding. For and while loops has only one of those. "
   ]
  },
  {
   "cell_type": "markdown",
   "id": "263f2c5b-8f11-416a-946d-19097155d6a0",
   "metadata": {},
   "source": [
    "*Static variables in recurssion*"
   ]
  },
  {
   "cell_type": "code",
   "execution_count": 14,
   "id": "c340770e-1e9e-477c-820f-d0c4bef4285a",
   "metadata": {},
   "outputs": [
    {
     "name": "stdout",
     "output_type": "stream",
     "text": [
      "15 "
     ]
    }
   ],
   "source": [
    "//function 3\n",
    "\n",
    "int fun3(int n){\n",
    "    if (n>0){\n",
    "        return fun3(n-1) + n;\n",
    "        \n",
    "    }\n",
    "    return 0;\n",
    "    \n",
    "}\n",
    "\n",
    "int a = 5;\n",
    "printf(\"%d \",fun3(a));"
   ]
  },
  {
   "cell_type": "markdown",
   "id": "b7128cf7-f5d0-46c8-85a3-d6d0d4f65c80",
   "metadata": {},
   "source": [
    "f(0) tak gya joh 0 nikla toh f(1) = f(0) +1 and aise hi chalta gya upar"
   ]
  },
  {
   "cell_type": "code",
   "execution_count": 27,
   "id": "9594094c-32f9-4edd-b9e0-077dd66f52d1",
   "metadata": {},
   "outputs": [
    {
     "name": "stdout",
     "output_type": "stream",
     "text": [
      "25 "
     ]
    }
   ],
   "source": [
    "//function 3 with static variable \n",
    "int fun3s(int n){\n",
    "    static int x = 0;\n",
    "    if (n>0){\n",
    "        x ++;\n",
    "        return fun3s(n-1) + x;\n",
    "        \n",
    "    }\n",
    "    return 0;\n",
    "    \n",
    "}\n",
    "\n",
    "int a = 5;\n",
    "printf(\"%d \",fun3s(a));"
   ]
  },
  {
   "cell_type": "markdown",
   "id": "333220ba-c0f5-4b2a-a0e5-4a115dc45e6b",
   "metadata": {},
   "source": [
    "Damn bro static vala sexy hai, remember without keyword static har bar \n",
    "int x = 0 hojayega function call krne pe. "
   ]
  },
  {
   "cell_type": "markdown",
   "id": "c5d26cba-11ac-4846-b32e-adc149f9570d",
   "metadata": {},
   "source": [
    "*if function ke bhaar globally variable declare krta toh bhi same result aata*"
   ]
  },
  {
   "cell_type": "markdown",
   "id": "0686e42c-e4ca-44aa-ba69-aff3cdb8c868",
   "metadata": {},
   "source": [
    "**Tail Recurssion**"
   ]
  },
  {
   "cell_type": "markdown",
   "id": "91a72887-0470-4e90-b538-0c0eadffe9f2",
   "metadata": {},
   "source": [
    "If in recurssion function the function is calling itself and it is the last sentence then it is tail function. All other functions are finished and it is calling itself at last. So every function is done during calling time. "
   ]
  },
  {
   "cell_type": "markdown",
   "id": "14859aa0-9e74-4dfe-bee4-44055cabd443",
   "metadata": {},
   "source": [
    "Before Calling - Calling time \n",
    "After calling - Returning Time"
   ]
  },
  {
   "cell_type": "markdown",
   "id": "29025a59-4c90-43b1-b927-b990c57ade6d",
   "metadata": {},
   "source": [
    "*In case of tail recurssion -- loop is better* \n",
    "as tail recurssion space - O(n) and\n",
    "loop space - O(n)"
   ]
  },
  {
   "cell_type": "markdown",
   "id": "236709b4-187b-497f-9edf-f96085e44a04",
   "metadata": {},
   "source": [
    "**Head Recurssion**"
   ]
  },
  {
   "cell_type": "markdown",
   "id": "dacb5116-58e7-4022-b82d-e0e5313928c2",
   "metadata": {},
   "source": [
    "If the functino is calling itself on the first line and all other functions are performed later that means all this is happening while returning. "
   ]
  },
  {
   "cell_type": "markdown",
   "id": "f30e6c5f-84b1-4d8f-9df8-01cd9e5554ee",
   "metadata": {},
   "source": [
    "**Tree Recurssion**"
   ]
  },
  {
   "cell_type": "markdown",
   "id": "b6a256e9-f6b7-4423-bf5d-16c0e63c150f",
   "metadata": {},
   "source": [
    "If a function is calling itself for one time then it's a Linear recurssion. But if a function is calling itself more than one time then it's a Tree Recursion"
   ]
  },
  {
   "cell_type": "code",
   "execution_count": 1,
   "id": "d6290817-a3f8-43f3-a4ba-818ba2fbd55e",
   "metadata": {},
   "outputs": [
    {
     "name": "stdout",
     "output_type": "stream",
     "text": [
      "3 2 1 1 2 1 1 "
     ]
    }
   ],
   "source": [
    "//Tree Recursion\n",
    "\n",
    "void fun(int n){\n",
    "    if (n>0){\n",
    "        printf(\"%d \",n);\n",
    "        fun(n-1);\n",
    "        fun(n-1);\n",
    "    }\n",
    "}\n",
    "int a = 3;\n",
    "fun(a);"
   ]
  },
  {
   "cell_type": "markdown",
   "id": "3e1ebf7b-3b66-4ec1-95ef-4ca8c4d60fbd",
   "metadata": {},
   "source": [
    "Tree recursion khatarnak hai dekh ke krne ka ki kab kya ho rha refer nb to see the tracing."
   ]
  },
  {
   "cell_type": "markdown",
   "id": "b3f67d69-f51b-4561-9ae7-22ebfd1e1e62",
   "metadata": {},
   "source": [
    "**Indirect Recurssion**"
   ]
  },
  {
   "cell_type": "markdown",
   "id": "9383c443-ea69-4374-8a0d-fda45f7cd3eb",
   "metadata": {},
   "source": [
    "When there are more than 1 function and they call each other making  a circular pattern they call each other with different n and then terminate if condition is not fullfilled. "
   ]
  },
  {
   "cell_type": "code",
   "execution_count": 12,
   "id": "d109aefc-dab1-4ff6-a2c9-4b06221da492",
   "metadata": {},
   "outputs": [],
   "source": [
    "// indirect recurssion\n",
    "\n",
    "\n",
    "void funA(int n){\n",
    "    if (n>0){\n",
    "        printf(\"%d \",n);\n",
    "        funB(n-1);\n",
    "    }\n",
    "}\n",
    "\n",
    "\n"
   ]
  },
  {
   "cell_type": "code",
   "execution_count": 13,
   "id": "2621685a-930a-44bb-aae0-9198a3865c4d",
   "metadata": {},
   "outputs": [
    {
     "name": "stdout",
     "output_type": "stream",
     "text": [
      "20 19 9 8 4 3 2 1 "
     ]
    }
   ],
   "source": [
    "void funB(int n){\n",
    "    if (n>1){\n",
    "        printf(\"%d \",n);\n",
    "        funA(n/2);\n",
    "    }\n",
    "}\n",
    "int a = 20;\n",
    "funA(a);"
   ]
  },
  {
   "cell_type": "markdown",
   "id": "69fc5062-2d6b-4dfc-afcf-35a4a097eb81",
   "metadata": {},
   "source": [
    "Less goo krdiya, dono function ko alag se kernal mai lode krna padha fir hua\n"
   ]
  },
  {
   "cell_type": "markdown",
   "id": "d829bc9d-5185-4b65-9a0b-e4af062712b1",
   "metadata": {},
   "source": [
    "**Nested Recurssion**"
   ]
  },
  {
   "cell_type": "markdown",
   "id": "7ea350dc-0153-47c0-a435-ff7b2db03470",
   "metadata": {},
   "source": [
    "// Nested Recurssion\n",
    "int fun(int n){\n",
    "    if (n>100){\n",
    "        return n-10;\n",
    "    }else return fun(fun(n+11)); //calling itself but calling itself even in adding paramter\n",
    "}\n",
    "printf(\"%d \",fun(95));"
   ]
  },
  {
   "cell_type": "markdown",
   "id": "0f57fe14-1dff-4bbf-852c-d0d6dc57e244",
   "metadata": {},
   "source": [
    "nested recurssion mai khudko call karte time bhi khudko call krta hai. Dem yes sexy concept."
   ]
  },
  {
   "cell_type": "code",
   "execution_count": 19,
   "id": "bfe38766-fb61-4622-9d0e-7d15474dc6a3",
   "metadata": {},
   "outputs": [
    {
     "name": "stdout",
     "output_type": "stream",
     "text": [
      "210 "
     ]
    }
   ],
   "source": [
    "// Sum of first n natural numbers using recurssion EZ\n",
    "\n",
    "int sum(int n){\n",
    "    if(n>0){\n",
    "        return sum(n-1)+n;\n",
    "    }else return 0;\n",
    "        \n",
    "}\n",
    "printf(\"%d \",sum(20));"
   ]
  },
  {
   "cell_type": "markdown",
   "id": "de8654e2-acba-45e9-b1d8-3241a654fb32",
   "metadata": {},
   "source": [
    "For loop is used than recurssion in this tupe of question as Space taken by recurssion is O(n) --> n+1 stacks."
   ]
  },
  {
   "cell_type": "code",
   "execution_count": 7,
   "id": "692be406-90bc-420a-bb75-7e6007b0bda2",
   "metadata": {},
   "outputs": [
    {
     "name": "stdout",
     "output_type": "stream",
     "text": [
      "3628800 "
     ]
    }
   ],
   "source": [
    "// Factorial\n",
    "int fact(int n){\n",
    "    if (n == 1){\n",
    "        return 1;\n",
    "    }else return fact(n-1)*n;\n",
    "}\n",
    "printf(\"%d \",fact(10));"
   ]
  },
  {
   "cell_type": "code",
   "execution_count": 11,
   "id": "3c971a90-37b3-48c4-b8d1-3b9a80230fc8",
   "metadata": {},
   "outputs": [
    {
     "name": "stdout",
     "output_type": "stream",
     "text": [
      "6561 "
     ]
    }
   ],
   "source": [
    "// power using recurssion\n",
    "int pow(int m,int n){\n",
    "    if (n == 1){\n",
    "        return m;\n",
    "    }else return pow(m,n-1)*m;\n",
    "}\n",
    "printf(\"%d \",pow(9,4));"
   ]
  },
  {
   "cell_type": "code",
   "execution_count": 30,
   "id": "de3f35f5-a901-49ba-9f0f-b6f7c72708fd",
   "metadata": {},
   "outputs": [
    {
     "name": "stdout",
     "output_type": "stream",
     "text": [
      "2.718282 "
     ]
    },
    {
     "data": {
      "text/plain": [
       "9"
      ]
     },
     "execution_count": 30,
     "metadata": {},
     "output_type": "execute_result"
    }
   ],
   "source": [
    "// Taylor Series \n",
    "\n",
    "//static variable used demm\n",
    "\n",
    "double e(int x,int n){\n",
    "    static double p = 1,f =1;\n",
    "    double a;\n",
    "\n",
    "    if (n == 0){\n",
    "        return 1;\n",
    "    }else{\n",
    "        a = e(x,n-1);\n",
    "        p = 1*x;\n",
    "        f = f*n;\n",
    "        return a + (p/f);\n",
    "        \n",
    "    }\n",
    "}\n",
    "\n",
    "printf(\"%f \",e(1,10));\n",
    "\n"
   ]
  },
  {
   "cell_type": "markdown",
   "id": "1d0d9624-2386-48b0-92cb-af96be5d6198",
   "metadata": {},
   "source": [
    "Less goo bitches.. Each step mai multiply bhi kr rhye and divide bhi. GOOD Question. BUt this has time O(N2)"
   ]
  },
  {
   "cell_type": "markdown",
   "id": "02e2727e-b8ee-41fd-895b-19111da43f15",
   "metadata": {},
   "source": []
  },
  {
   "cell_type": "code",
   "execution_count": 21,
   "id": "421e228c-7f00-45b3-91e8-e5c3c5accaf0",
   "metadata": {},
   "outputs": [
    {
     "name": "stdout",
     "output_type": "stream",
     "text": [
      "2.718282 "
     ]
    },
    {
     "name": "stderr",
     "output_type": "stream",
     "text": [
      "ERROR: received unknown message\n",
      "Message type: usage_request\n"
     ]
    }
   ],
   "source": [
    "// faster methodd O(N)\n",
    "\n",
    "double e2(int x,int n){\n",
    "    static double b = 1;\n",
    "    if (n == 0){\n",
    "        return b;\n",
    "        \n",
    "    }else {\n",
    "        b = 1.00 + x*b/n;\n",
    "        return e2(x,n-1);\n",
    "    }\n",
    "}\n",
    "printf(\"%lf \",e2(1,10));"
   ]
  },
  {
   "cell_type": "markdown",
   "id": "4fb5c3be-69a1-430d-82c4-9c3061df110d",
   "metadata": {},
   "source": [
    "Bhai chad method hai take common and ek type of term *(x/n) + 1 krna hai. Observe pattern and look. This is just O(n). all functions happen during calling toh apne normal for loop se bhi kr sakte hai ussey bhi try krke dkehna."
   ]
  },
  {
   "cell_type": "code",
   "execution_count": 36,
   "id": "85cfdc7d-e4ba-4f37-b15f-d9fad035729d",
   "metadata": {},
   "outputs": [
    {
     "name": "stdout",
     "output_type": "stream",
     "text": [
      "987 "
     ]
    }
   ],
   "source": [
    "// fibonacci seq using recurssion\n",
    "// f(n) = f(n-1) + f(n-2)\n",
    "\n",
    "int fibo(int n){\n",
    "    if ((n == 1) | (n == 2)){\n",
    "        return 1;\n",
    "    }else return fibo(n-2) + fibo(n-1);\n",
    "}\n",
    "printf(\"%d \",fibo(16));"
   ]
  },
  {
   "cell_type": "code",
   "execution_count": 20,
   "id": "ee8ea065-7add-4ba0-8619-4ac2846a7d1d",
   "metadata": {},
   "outputs": [
    {
     "name": "stdout",
     "output_type": "stream",
     "text": [
      "84"
     ]
    },
    {
     "data": {
      "text/plain": [
       "2"
      ]
     },
     "execution_count": 20,
     "metadata": {},
     "output_type": "execute_result"
    }
   ],
   "source": [
    "// Combination nCr\n",
    "// nCr = (n/r)n-1Cr-1\n",
    "\n",
    "int combi(int n, int r){\n",
    "    if (r == 0){\n",
    "        return 1;\n",
    "    }else return n*combi(n-1,r-1)/r;\n",
    "}\n",
    "\n",
    "printf(\"%d\",combi(9,3))"
   ]
  },
  {
   "cell_type": "markdown",
   "id": "0bc7ff41-631d-4cfa-a1ab-8fa9e42ab904",
   "metadata": {},
   "source": [
    "Tower of Hanoi Question. \n",
    "Need to transfer all the discs from A to C with condition that no big disc can be on top of small disc. \n"
   ]
  },
  {
   "cell_type": "markdown",
   "id": "c9c8ee31-b846-4e4d-8485-24af861fe301",
   "metadata": {},
   "source": [
    "Sexy way to solve bhai. See NB. 1 ko toh direct move kr sakte hai. so n ko krne ke liye phele n-1 intermediate mai dalna hai aur fir 1 ko final mai and then baaki ke n-1 ko final mai. "
   ]
  },
  {
   "cell_type": "code",
   "execution_count": 1,
   "id": "2e0117e8-4b9b-4bce-857d-7eb08ccfb8cf",
   "metadata": {},
   "outputs": [],
   "source": [
    "/*pseudo\n",
    "TOH(1,A,B,C) -- > move 1 disc A to C using B \n",
    "TOH(2,A,B,C) -- > move 1 disc A to B then A to C and then B to C so it is like = TOH(1,A,C,B) + TOH(1,A,B,C) + TOH(1,B,A,C)\n",
    "TOH(3,A,B,C) -- > move 2 discs A to B then A to C and then B to C so = TOH(2,A,C,B) + TOH(1,A,B,C) + TOH(2,B,A,C)\n",
    "*/"
   ]
  },
  {
   "cell_type": "code",
   "execution_count": 5,
   "id": "11f9016e-3819-4186-b40e-ae8119fa481e",
   "metadata": {},
   "outputs": [
    {
     "name": "stdout",
     "output_type": "stream",
     "text": [
      "Transfer a disc from 1 to 3 \n",
      "Transfer a disc from 1 to 2 \n",
      "Transfer a disc from 3 to 2 \n",
      "Transfer a disc from 1 to 3 \n",
      "Transfer a disc from 2 to 1 \n",
      "Transfer a disc from 2 to 3 \n",
      "Transfer a disc from 1 to 3 \n"
     ]
    }
   ],
   "source": [
    "void TOH(int n, int A,int B, int C){\n",
    "    if (n>0){\n",
    "        TOH(n-1,A,C,B);\n",
    "        printf(\"Transfer a disc from %d to %d \\n\",A,C);\n",
    "        TOH(n-1,B,A,C);\n",
    "    }\n",
    "}\n",
    "\n",
    "TOH(3,1,2,3);"
   ]
  },
  {
   "cell_type": "markdown",
   "id": "3ff116fe-fc27-4608-86fb-21133f686f59",
   "metadata": {},
   "source": [
    "LEss fucking GOOO "
   ]
  },
  {
   "cell_type": "markdown",
   "id": "32dad166-e7c9-4f61-b80f-04b923953e50",
   "metadata": {},
   "source": [
    "**STACK**"
   ]
  },
  {
   "cell_type": "code",
   "execution_count": 2,
   "id": "941e46d1-df2c-49ed-b792-feae3b4f0294",
   "metadata": {},
   "outputs": [
    {
     "name": "stdout",
     "output_type": "stream",
     "text": [
      "Enter the size of stack 5 "
     ]
    }
   ],
   "source": [
    "// stack \n",
    "int x = 5;\n",
    "//stack mai 3 chiz chahiye array ka size, top pointer joh last element ko point kare and intitial pointer joh array banaye\n",
    "struct stack{\n",
    "    int size;\n",
    "    int top;\n",
    "    int *s;\n",
    "};\n",
    "\n",
    "struct stack st;\n",
    "printf(\"Enter the size of stack %d \",x);\n",
    "// scanf(\"%d\", &st.size);\n",
    "st.size = x;\n",
    "st.s = new int[st.size];\n",
    "st.top = -1;\n"
   ]
  },
  {
   "cell_type": "code",
   "execution_count": 6,
   "id": "57ed734e-2e4f-49b8-8c4b-8003e139f0f5",
   "metadata": {},
   "outputs": [],
   "source": [
    "// Push function to push element in stack \n",
    "// stack is empyt if top == -1 and stack is full if top == size -1\n",
    "\n",
    "void push(stack *st,int x){\n",
    "    if (st -> top == st -> size-1){\n",
    "        printf(\"Stack Overflow\");\n",
    "    }else {\n",
    "        st -> top++;\n",
    "        st -> s[st ->top] = x;\n",
    "        \n",
    "    }\n",
    "}\n",
    "\n"
   ]
  },
  {
   "cell_type": "code",
   "execution_count": 13,
   "id": "6c09aefa-8f4d-4aaa-b4ee-3cb5c1a5c654",
   "metadata": {},
   "outputs": [],
   "source": [
    "// pop function\n",
    "int pop(stack *st){\n",
    "    int x = -1;\n",
    "    if(st -> top == -1){\n",
    "        printf(\"Stack underflow\");\n",
    "    }else {\n",
    "        x = st ->s[st->top];\n",
    "        st->top --;\n",
    "    }\n",
    "    return x;\n",
    "}\n"
   ]
  },
  {
   "cell_type": "code",
   "execution_count": null,
   "id": "b6bbf5d5-85d2-413e-898d-2316ee48e72e",
   "metadata": {},
   "outputs": [],
   "source": []
  }
 ],
 "metadata": {
  "kernelspec": {
   "display_name": "C++17",
   "language": "C++17",
   "name": "xcpp17"
  },
  "language_info": {
   "codemirror_mode": "text/x-c++src",
   "file_extension": ".cpp",
   "mimetype": "text/x-c++src",
   "name": "c++",
   "version": "17"
  }
 },
 "nbformat": 4,
 "nbformat_minor": 5
}
